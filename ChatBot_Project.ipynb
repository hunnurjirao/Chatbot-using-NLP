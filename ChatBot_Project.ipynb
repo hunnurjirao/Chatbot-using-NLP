{
  "nbformat": 4,
  "nbformat_minor": 0,
  "metadata": {
    "colab": {
      "name": "ChatBot-Project.ipynb",
      "provenance": [],
      "collapsed_sections": []
    },
    "kernelspec": {
      "name": "python3",
      "display_name": "Python 3"
    },
    "accelerator": "GPU"
  },
  "cells": [
    {
      "cell_type": "markdown",
      "source": [
        "# **Create Your Own Chatbot using NLP**"
      ],
      "metadata": {
        "id": "9UU6OXVVLCZ2"
      }
    },
    {
      "cell_type": "markdown",
      "metadata": {
        "id": "pvWlc36ZQ21X"
      },
      "source": [
        "## **Importing necessary modules**"
      ]
    },
    {
      "cell_type": "code",
      "metadata": {
        "id": "7y4sR2ugQqoy"
      },
      "source": [
        "import numpy as np # for numerical operations\n",
        "import pandas as pd # for reading the dataset\n",
        " \n",
        "import re   # regural expressions\n",
        " \n",
        "import sklearn  #these have inbuilt models and algorithms\n",
        "from sklearn.metrics.pairwise import cosine_similarity"
      ],
      "execution_count": 1,
      "outputs": []
    },
    {
      "cell_type": "code",
      "metadata": {
        "id": "8H_famOERFH2",
        "colab": {
          "base_uri": "https://localhost:8080/",
          "height": 0
        },
        "outputId": "dcfd5c96-b5e3-41ca-ecbb-7154a536d089"
      },
      "source": [
        "import nltk #natural langauage tool kit\n",
        "\n",
        "from nltk.corpus import stopwords # to remove unnecessary words from the sentences\n",
        "nltk.download(\"stopwords\")\n",
        "\n",
        "import gensim # inbuilt model used in the nltk\n",
        "from nltk.stem.porter import PorterStemmer # combine the similar words in to a single word\n",
        "from gensim import corpora"
      ],
      "execution_count": 2,
      "outputs": [
        {
          "output_type": "stream",
          "name": "stderr",
          "text": [
            "[nltk_data] Downloading package stopwords to /root/nltk_data...\n",
            "[nltk_data]   Unzipping corpora/stopwords.zip.\n"
          ]
        }
      ]
    },
    {
      "cell_type": "markdown",
      "metadata": {
        "id": "CqC5pfptRNiF"
      },
      "source": [
        "## **Data cleaning and preprocessing**"
      ]
    },
    {
      "cell_type": "code",
      "metadata": {
        "id": "unQHvGpuRKQn",
        "colab": {
          "base_uri": "https://localhost:8080/",
          "height": 206
        },
        "outputId": "39c7a2df-cc8b-4498-ab91-57924daf7737"
      },
      "source": [
        "df=pd.read_csv(\"dataset.csv\")\n",
        "df.head()"
      ],
      "execution_count": 4,
      "outputs": [
        {
          "output_type": "execute_result",
          "data": {
            "text/plain": [
              "                 ques                         ans\n",
              "0                  Hi  Hello! How can I help you?\n",
              "1           Thank you                Your welcome\n",
              "2  What is your name?                    Chat-Bot\n",
              "3           your name                    Chat-Bot\n",
              "4               hello  Hello! How can I help you?"
            ],
            "text/html": [
              "\n",
              "  <div id=\"df-c15955b9-9be4-442a-8bd2-639e0b69bfab\">\n",
              "    <div class=\"colab-df-container\">\n",
              "      <div>\n",
              "<style scoped>\n",
              "    .dataframe tbody tr th:only-of-type {\n",
              "        vertical-align: middle;\n",
              "    }\n",
              "\n",
              "    .dataframe tbody tr th {\n",
              "        vertical-align: top;\n",
              "    }\n",
              "\n",
              "    .dataframe thead th {\n",
              "        text-align: right;\n",
              "    }\n",
              "</style>\n",
              "<table border=\"1\" class=\"dataframe\">\n",
              "  <thead>\n",
              "    <tr style=\"text-align: right;\">\n",
              "      <th></th>\n",
              "      <th>ques</th>\n",
              "      <th>ans</th>\n",
              "    </tr>\n",
              "  </thead>\n",
              "  <tbody>\n",
              "    <tr>\n",
              "      <th>0</th>\n",
              "      <td>Hi</td>\n",
              "      <td>Hello! How can I help you?</td>\n",
              "    </tr>\n",
              "    <tr>\n",
              "      <th>1</th>\n",
              "      <td>Thank you</td>\n",
              "      <td>Your welcome</td>\n",
              "    </tr>\n",
              "    <tr>\n",
              "      <th>2</th>\n",
              "      <td>What is your name?</td>\n",
              "      <td>Chat-Bot</td>\n",
              "    </tr>\n",
              "    <tr>\n",
              "      <th>3</th>\n",
              "      <td>your name</td>\n",
              "      <td>Chat-Bot</td>\n",
              "    </tr>\n",
              "    <tr>\n",
              "      <th>4</th>\n",
              "      <td>hello</td>\n",
              "      <td>Hello! How can I help you?</td>\n",
              "    </tr>\n",
              "  </tbody>\n",
              "</table>\n",
              "</div>\n",
              "      <button class=\"colab-df-convert\" onclick=\"convertToInteractive('df-c15955b9-9be4-442a-8bd2-639e0b69bfab')\"\n",
              "              title=\"Convert this dataframe to an interactive table.\"\n",
              "              style=\"display:none;\">\n",
              "        \n",
              "  <svg xmlns=\"http://www.w3.org/2000/svg\" height=\"24px\"viewBox=\"0 0 24 24\"\n",
              "       width=\"24px\">\n",
              "    <path d=\"M0 0h24v24H0V0z\" fill=\"none\"/>\n",
              "    <path d=\"M18.56 5.44l.94 2.06.94-2.06 2.06-.94-2.06-.94-.94-2.06-.94 2.06-2.06.94zm-11 1L8.5 8.5l.94-2.06 2.06-.94-2.06-.94L8.5 2.5l-.94 2.06-2.06.94zm10 10l.94 2.06.94-2.06 2.06-.94-2.06-.94-.94-2.06-.94 2.06-2.06.94z\"/><path d=\"M17.41 7.96l-1.37-1.37c-.4-.4-.92-.59-1.43-.59-.52 0-1.04.2-1.43.59L10.3 9.45l-7.72 7.72c-.78.78-.78 2.05 0 2.83L4 21.41c.39.39.9.59 1.41.59.51 0 1.02-.2 1.41-.59l7.78-7.78 2.81-2.81c.8-.78.8-2.07 0-2.86zM5.41 20L4 18.59l7.72-7.72 1.47 1.35L5.41 20z\"/>\n",
              "  </svg>\n",
              "      </button>\n",
              "      \n",
              "  <style>\n",
              "    .colab-df-container {\n",
              "      display:flex;\n",
              "      flex-wrap:wrap;\n",
              "      gap: 12px;\n",
              "    }\n",
              "\n",
              "    .colab-df-convert {\n",
              "      background-color: #E8F0FE;\n",
              "      border: none;\n",
              "      border-radius: 50%;\n",
              "      cursor: pointer;\n",
              "      display: none;\n",
              "      fill: #1967D2;\n",
              "      height: 32px;\n",
              "      padding: 0 0 0 0;\n",
              "      width: 32px;\n",
              "    }\n",
              "\n",
              "    .colab-df-convert:hover {\n",
              "      background-color: #E2EBFA;\n",
              "      box-shadow: 0px 1px 2px rgba(60, 64, 67, 0.3), 0px 1px 3px 1px rgba(60, 64, 67, 0.15);\n",
              "      fill: #174EA6;\n",
              "    }\n",
              "\n",
              "    [theme=dark] .colab-df-convert {\n",
              "      background-color: #3B4455;\n",
              "      fill: #D2E3FC;\n",
              "    }\n",
              "\n",
              "    [theme=dark] .colab-df-convert:hover {\n",
              "      background-color: #434B5C;\n",
              "      box-shadow: 0px 1px 3px 1px rgba(0, 0, 0, 0.15);\n",
              "      filter: drop-shadow(0px 1px 2px rgba(0, 0, 0, 0.3));\n",
              "      fill: #FFFFFF;\n",
              "    }\n",
              "  </style>\n",
              "\n",
              "      <script>\n",
              "        const buttonEl =\n",
              "          document.querySelector('#df-c15955b9-9be4-442a-8bd2-639e0b69bfab button.colab-df-convert');\n",
              "        buttonEl.style.display =\n",
              "          google.colab.kernel.accessAllowed ? 'block' : 'none';\n",
              "\n",
              "        async function convertToInteractive(key) {\n",
              "          const element = document.querySelector('#df-c15955b9-9be4-442a-8bd2-639e0b69bfab');\n",
              "          const dataTable =\n",
              "            await google.colab.kernel.invokeFunction('convertToInteractive',\n",
              "                                                     [key], {});\n",
              "          if (!dataTable) return;\n",
              "\n",
              "          const docLinkHtml = 'Like what you see? Visit the ' +\n",
              "            '<a target=\"_blank\" href=https://colab.research.google.com/notebooks/data_table.ipynb>data table notebook</a>'\n",
              "            + ' to learn more about interactive tables.';\n",
              "          element.innerHTML = '';\n",
              "          dataTable['output_type'] = 'display_data';\n",
              "          await google.colab.output.renderOutput(dataTable, element);\n",
              "          const docLink = document.createElement('div');\n",
              "          docLink.innerHTML = docLinkHtml;\n",
              "          element.appendChild(docLink);\n",
              "        }\n",
              "      </script>\n",
              "    </div>\n",
              "  </div>\n",
              "  "
            ]
          },
          "metadata": {},
          "execution_count": 4
        }
      ]
    },
    {
      "cell_type": "code",
      "metadata": {
        "id": "PLXicLRNRed6",
        "colab": {
          "base_uri": "https://localhost:8080/",
          "height": 0
        },
        "outputId": "3aa8bba3-3870-49ea-a1a4-c710a44bce3e"
      },
      "source": [
        "df.info() #Print information about the data"
      ],
      "execution_count": 5,
      "outputs": [
        {
          "output_type": "stream",
          "name": "stdout",
          "text": [
            "<class 'pandas.core.frame.DataFrame'>\n",
            "RangeIndex: 9 entries, 0 to 8\n",
            "Data columns (total 2 columns):\n",
            " #   Column  Non-Null Count  Dtype \n",
            "---  ------  --------------  ----- \n",
            " 0   ques    9 non-null      object\n",
            " 1   ans     9 non-null      object\n",
            "dtypes: object(2)\n",
            "memory usage: 272.0+ bytes\n"
          ]
        }
      ]
    },
    {
      "cell_type": "code",
      "metadata": {
        "id": "P33YZacWTv6F",
        "colab": {
          "base_uri": "https://localhost:8080/",
          "height": 0
        },
        "outputId": "f661f000-57c6-4830-a716-4d8304143c1d"
      },
      "source": [
        "ques=df[\"ques\"]\n",
        "\n",
        "ans=df[\"ans\"]\n",
        "\n",
        "for i in range(len(ques)):\n",
        "  print(ques[i] + \"   --->   \" + ans[i] )"
      ],
      "execution_count": 6,
      "outputs": [
        {
          "output_type": "stream",
          "name": "stdout",
          "text": [
            "Hi   --->   Hello! How can I help you?\n",
            "Thank you   --->   Your welcome\n",
            "What is your name?   --->   Chat-Bot\n",
            "your name   --->   Chat-Bot\n",
            "hello   --->   Hello! How can I help you?\n",
            "Bye   --->   Bye!\n",
            "Thanks a lot   --->   Your welcome\n",
            "Which language do you like most   --->   Python\n",
            "mosk liked language   --->   Python\n"
          ]
        }
      ]
    },
    {
      "cell_type": "code",
      "metadata": {
        "id": "s3O4v1BrS8la"
      },
      "source": [
        "#returns the cleaned sentences by reomoving all stopwords and similar type of words\n",
        "stemmer=PorterStemmer()\n",
        "\n",
        "\n",
        "def clean_sentences(sentence,stop_words=False):\n",
        "  cleaned_sentences=[]\n",
        "  for i in range(0,len(sentence)):\n",
        "    review=re.sub('[^a-zA-Z]' ,' ',sentence[i])\n",
        "    review=review.lower()\n",
        "    review=review.split()\n",
        "    if stop_words:\n",
        "     review=[stemmer.stem(word) for word in review if  not word in stopwords.words('english')]\n",
        "    review=' '.join(review)\n",
        "    cleaned_sentences.append(review)\n",
        "  return cleaned_sentences\n",
        "\n"
      ],
      "execution_count": 7,
      "outputs": []
    },
    {
      "cell_type": "code",
      "metadata": {
        "id": "Qu96WKh8TYWu"
      },
      "source": [
        "#similar to above cell, but only for questions.\n",
        " \n",
        "def clean_sentences_Q(sentence,stop_words=False):\n",
        " \n",
        "  for i in range(0,len(sentence)):\n",
        "    review=re.sub('[^a-zA-Z]' ,' ',sentence)\n",
        "    review=review.lower()\n",
        "    review=review.split()\n",
        "    if stop_words:\n",
        "      review=[stemmer.stem(word) for word in review if  not word in stopwords.words('english')]\n",
        "    review=' '.join(review)\n",
        "  return review"
      ],
      "execution_count": 11,
      "outputs": []
    },
    {
      "cell_type": "code",
      "metadata": {
        "id": "p1WcytOJTmIF"
      },
      "source": [
        "#cleaning the sentences in the training dataset\n",
        "\n",
        "cleaned_sent_with_stopwords = clean_sentences(ques,stop_words=False)\n"
      ],
      "execution_count": 12,
      "outputs": []
    },
    {
      "cell_type": "code",
      "source": [
        "cleaned_sent_with_stopwords"
      ],
      "metadata": {
        "colab": {
          "base_uri": "https://localhost:8080/",
          "height": 0
        },
        "id": "s36qUYvxKN9b",
        "outputId": "b1d1de98-bbf8-4404-b100-48ba99aa0edc"
      },
      "execution_count": 13,
      "outputs": [
        {
          "output_type": "execute_result",
          "data": {
            "text/plain": [
              "['hi',\n",
              " 'thank you',\n",
              " 'what is your name',\n",
              " 'your name',\n",
              " 'hello',\n",
              " 'bye',\n",
              " 'thanks a lot',\n",
              " 'which language do you like most',\n",
              " 'mosk liked language']"
            ]
          },
          "metadata": {},
          "execution_count": 13
        }
      ]
    },
    {
      "cell_type": "code",
      "source": [
        "cleaned_sentences=clean_sentences(ques,stop_words=True)"
      ],
      "metadata": {
        "id": "0A7fvMMwKRge"
      },
      "execution_count": 14,
      "outputs": []
    },
    {
      "cell_type": "markdown",
      "source": [
        "## **Pre-processing and Feature Engineering**"
      ],
      "metadata": {
        "id": "SAaz47M6Lb2U"
      }
    },
    {
      "cell_type": "code",
      "metadata": {
        "id": "L71jdhhBVIeu",
        "colab": {
          "base_uri": "https://localhost:8080/",
          "height": 0
        },
        "outputId": "05b2b329-6a56-4929-a20e-ad27335ed0d3"
      },
      "source": [
        "#printing the cleaned sentences --> words are seperated within the list \n",
        "sentences=cleaned_sent_with_stopwords\n",
        "\n",
        "sentence_words=[[word for word in document.split()] for document in sentences]\n",
        "\n",
        "\n",
        "sentence_words"
      ],
      "execution_count": 15,
      "outputs": [
        {
          "output_type": "execute_result",
          "data": {
            "text/plain": [
              "[['hi'],\n",
              " ['thank', 'you'],\n",
              " ['what', 'is', 'your', 'name'],\n",
              " ['your', 'name'],\n",
              " ['hello'],\n",
              " ['bye'],\n",
              " ['thanks', 'a', 'lot'],\n",
              " ['which', 'language', 'do', 'you', 'like', 'most'],\n",
              " ['mosk', 'liked', 'language']]"
            ]
          },
          "metadata": {},
          "execution_count": 15
        }
      ]
    },
    {
      "cell_type": "code",
      "metadata": {
        "colab": {
          "base_uri": "https://localhost:8080/",
          "height": 0
        },
        "id": "te-INhw09Q41",
        "outputId": "7d20ab49-f12b-40ec-d6bc-7d3e8a5a0592"
      },
      "source": [
        "from gensim import corpora\n",
        "\n",
        "dictionary = corpora.Dictionary(sentence_words)\n",
        "\n",
        "for key,value in dictionary.items():\n",
        "  print(key,':',value)"
      ],
      "execution_count": 16,
      "outputs": [
        {
          "output_type": "stream",
          "name": "stdout",
          "text": [
            "0 : hi\n",
            "1 : thank\n",
            "2 : you\n",
            "3 : is\n",
            "4 : name\n",
            "5 : what\n",
            "6 : your\n",
            "7 : hello\n",
            "8 : bye\n",
            "9 : a\n",
            "10 : lot\n",
            "11 : thanks\n",
            "12 : do\n",
            "13 : language\n",
            "14 : like\n",
            "15 : most\n",
            "16 : which\n",
            "17 : liked\n",
            "18 : mosk\n"
          ]
        }
      ]
    },
    {
      "cell_type": "markdown",
      "metadata": {
        "id": "xsmCMGUD-mbd"
      },
      "source": [
        "## **Creating word2Vec model**"
      ]
    },
    {
      "cell_type": "code",
      "metadata": {
        "id": "18amr2DIVe2I"
      },
      "source": [
        " #converting words to vector\n",
        "\n",
        "bow_corpus=[dictionary.doc2bow(text) for text in sentence_words]"
      ],
      "execution_count": 17,
      "outputs": []
    },
    {
      "cell_type": "code",
      "metadata": {
        "colab": {
          "base_uri": "https://localhost:8080/",
          "height": 0
        },
        "id": "MagOS_C4y--u",
        "outputId": "8b28ad5f-ddcd-428f-b30d-c5fa40921a3e"
      },
      "source": [
        "dictionary"
      ],
      "execution_count": 18,
      "outputs": [
        {
          "output_type": "execute_result",
          "data": {
            "text/plain": [
              "<gensim.corpora.dictionary.Dictionary at 0x7f3777ec8050>"
            ]
          },
          "metadata": {},
          "execution_count": 18
        }
      ]
    },
    {
      "cell_type": "code",
      "metadata": {
        "colab": {
          "base_uri": "https://localhost:8080/",
          "height": 0
        },
        "id": "3Qv1LJffzAon",
        "outputId": "a7406288-12ba-4d5a-bd26-0ca866cb4d1b"
      },
      "source": [
        "bow_corpus"
      ],
      "execution_count": 19,
      "outputs": [
        {
          "output_type": "execute_result",
          "data": {
            "text/plain": [
              "[[(0, 1)],\n",
              " [(1, 1), (2, 1)],\n",
              " [(3, 1), (4, 1), (5, 1), (6, 1)],\n",
              " [(4, 1), (6, 1)],\n",
              " [(7, 1)],\n",
              " [(8, 1)],\n",
              " [(9, 1), (10, 1), (11, 1)],\n",
              " [(2, 1), (12, 1), (13, 1), (14, 1), (15, 1), (16, 1)],\n",
              " [(13, 1), (17, 1), (18, 1)]]"
            ]
          },
          "metadata": {},
          "execution_count": 19
        }
      ]
    },
    {
      "cell_type": "code",
      "metadata": {
        "id": "LUkRgOTBzjvw",
        "colab": {
          "base_uri": "https://localhost:8080/",
          "height": 0
        },
        "outputId": "aaa8108a-4eee-4ed0-afd3-86f50bde966e"
      },
      "source": [
        "for sent, embedding in zip(sentences,bow_corpus):\n",
        "  print(sent)\n",
        "  print(embedding)\n",
        "  print('\\n-------------------------------------------------------')"
      ],
      "execution_count": 20,
      "outputs": [
        {
          "output_type": "stream",
          "name": "stdout",
          "text": [
            "hi\n",
            "[(0, 1)]\n",
            "\n",
            "-------------------------------------------------------\n",
            "thank you\n",
            "[(1, 1), (2, 1)]\n",
            "\n",
            "-------------------------------------------------------\n",
            "what is your name\n",
            "[(3, 1), (4, 1), (5, 1), (6, 1)]\n",
            "\n",
            "-------------------------------------------------------\n",
            "your name\n",
            "[(4, 1), (6, 1)]\n",
            "\n",
            "-------------------------------------------------------\n",
            "hello\n",
            "[(7, 1)]\n",
            "\n",
            "-------------------------------------------------------\n",
            "bye\n",
            "[(8, 1)]\n",
            "\n",
            "-------------------------------------------------------\n",
            "thanks a lot\n",
            "[(9, 1), (10, 1), (11, 1)]\n",
            "\n",
            "-------------------------------------------------------\n",
            "which language do you like most\n",
            "[(2, 1), (12, 1), (13, 1), (14, 1), (15, 1), (16, 1)]\n",
            "\n",
            "-------------------------------------------------------\n",
            "mosk liked language\n",
            "[(13, 1), (17, 1), (18, 1)]\n",
            "\n",
            "-------------------------------------------------------\n"
          ]
        }
      ]
    },
    {
      "cell_type": "markdown",
      "metadata": {
        "id": "7PjjG3_a-wHw"
      },
      "source": [
        "## **Using Cosine Similarity**"
      ]
    },
    {
      "cell_type": "code",
      "metadata": {
        "id": "zimONbT70B09"
      },
      "source": [
        "#using cosine similarity\n",
        "\n",
        "def your_ans(ques_embedding,sent_embedding,df,sentences):\n",
        "    max_sim=-1\n",
        "    index_sim=-1\n",
        "    for index,df_embedding in enumerate(sent_embedding):\n",
        "      sim=cosine_similarity(df_embedding,ques_embedding)[0][0];\n",
        "      #print(index,sim,sentences[index])\n",
        "      if sim>max_sim:\n",
        "        max_sim=sim\n",
        "        index_sim=index\n",
        "    print('  ',df.iloc[index_sim,1])"
      ],
      "execution_count": 21,
      "outputs": []
    },
    {
      "cell_type": "markdown",
      "metadata": {
        "id": "yLoOHiRS-3lf"
      },
      "source": [
        "## **Testing Our Chatbot**"
      ]
    },
    {
      "cell_type": "code",
      "metadata": {
        "id": "H7IaGzGT-Efj",
        "colab": {
          "base_uri": "https://localhost:8080/",
          "height": 0
        },
        "outputId": "c8999a0b-edbc-4481-ab48-4d673fc42783"
      },
      "source": [
        "while True:\n",
        "    question=str(input('>> '))\n",
        "    try:\n",
        "      if question=='exit':\n",
        "          break;\n",
        "      question = clean_sentences_Q(question,stop_words=False)\n",
        "      question_embedding=dictionary.doc2bow(question.split())\n",
        " \n",
        "      your_ans(question_embedding,bow_corpus,df,sentences)\n",
        "    except:     \n",
        "      print(\"Something went wrong!\")"
      ],
      "execution_count": 23,
      "outputs": [
        {
          "name": "stdout",
          "output_type": "stream",
          "text": [
            ">> Hi\n",
            "   Hello! How can I help you?\n",
            ">> your name?\n",
            "   Chat-Bot\n",
            ">> which language do you like?\n",
            "   Python\n",
            ">> Thank you!\n",
            "   Your welcome\n",
            ">> exit\n"
          ]
        }
      ]
    },
    {
      "cell_type": "markdown",
      "source": [
        "K HUNNURJI RAO"
      ],
      "metadata": {
        "id": "iyB-F8oDK-AG"
      }
    }
  ]
}